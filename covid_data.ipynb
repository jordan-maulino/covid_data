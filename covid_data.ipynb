{
 "metadata": {
  "language_info": {
   "codemirror_mode": {
    "name": "ipython",
    "version": 3
   },
   "file_extension": ".py",
   "mimetype": "text/x-python",
   "name": "python",
   "nbconvert_exporter": "python",
   "pygments_lexer": "ipython3",
   "version": "3.8.3-final"
  },
  "orig_nbformat": 2,
  "kernelspec": {
   "name": "python3",
   "display_name": "Python 3"
  }
 },
 "nbformat": 4,
 "nbformat_minor": 2,
 "cells": [
  {
   "cell_type": "code",
   "execution_count": 1,
   "metadata": {},
   "outputs": [],
   "source": [
    "import os\n",
    "from google.cloud import bigquery\n",
    "import pandas as pd \n"
   ]
  },
  {
   "cell_type": "code",
   "execution_count": 2,
   "metadata": {},
   "outputs": [],
   "source": [
    "os.environ[\"GOOGLE_APPLICATION_CREDENTIALS\"]= '/Users/jordanmaulino/Downloads/coastal-dynamo-309722-2032fe38e9cd.json'"
   ]
  },
  {
   "cell_type": "code",
   "execution_count": 3,
   "metadata": {},
   "outputs": [],
   "source": [
    "client = bigquery.Client()"
   ]
  },
  {
   "cell_type": "code",
   "execution_count": 4,
   "metadata": {},
   "outputs": [],
   "source": [
    "dataset_ref = client.dataset(\"covid19_ecdc\", project=\"bigquery-public-data\")\n",
    "\n",
    "dataset=client.get_dataset(dataset_ref)"
   ]
  },
  {
   "cell_type": "code",
   "execution_count": 5,
   "metadata": {},
   "outputs": [],
   "source": [
    "tables = list(client.list_tables(dataset))"
   ]
  },
  {
   "cell_type": "code",
   "execution_count": 6,
   "metadata": {
    "tags": []
   },
   "outputs": [
    {
     "output_type": "stream",
     "name": "stdout",
     "text": "covid_19_geographic_distribution_worldwide\n"
    }
   ],
   "source": [
    "for table in tables:\n",
    "    print(table.table_id)"
   ]
  },
  {
   "cell_type": "code",
   "execution_count": 7,
   "metadata": {},
   "outputs": [],
   "source": [
    "table_ref = dataset_ref.table(\"covid_19_geographic_distribution_worldwide\")\n",
    "\n",
    "table=client.get_table(table_ref)"
   ]
  },
  {
   "cell_type": "code",
   "execution_count": 8,
   "metadata": {},
   "outputs": [
    {
     "output_type": "execute_result",
     "data": {
      "text/plain": "[SchemaField('date', 'DATE', 'NULLABLE', None, (), None),\n SchemaField('day', 'INTEGER', 'NULLABLE', None, (), None),\n SchemaField('month', 'INTEGER', 'NULLABLE', None, (), None),\n SchemaField('year', 'INTEGER', 'NULLABLE', None, (), None),\n SchemaField('daily_confirmed_cases', 'INTEGER', 'NULLABLE', None, (), None),\n SchemaField('daily_deaths', 'INTEGER', 'NULLABLE', None, (), None),\n SchemaField('confirmed_cases', 'INTEGER', 'NULLABLE', None, (), None),\n SchemaField('deaths', 'INTEGER', 'NULLABLE', None, (), None),\n SchemaField('countries_and_territories', 'STRING', 'NULLABLE', None, (), None),\n SchemaField('geo_id', 'STRING', 'NULLABLE', None, (), None),\n SchemaField('country_territory_code', 'STRING', 'NULLABLE', None, (), None),\n SchemaField('pop_data_2019', 'INTEGER', 'NULLABLE', None, (), None)]"
     },
     "metadata": {},
     "execution_count": 8
    }
   ],
   "source": [
    "table.schema"
   ]
  },
  {
   "cell_type": "code",
   "execution_count": 9,
   "metadata": {},
   "outputs": [
    {
     "output_type": "execute_result",
     "data": {
      "text/plain": "         date  day  month  year  daily_confirmed_cases  daily_deaths  \\\n0  2020-03-20   20      3  2020                      1             0   \n1  2020-03-21   21      3  2020                      0             0   \n2  2020-03-22   22      3  2020                      1             0   \n3  2020-03-23   23      3  2020                      0             0   \n4  2020-03-24   24      3  2020                      0             0   \n\n   confirmed_cases  deaths countries_and_territories geo_id  \\\n0                1       0                      Chad     TD   \n1                1       0                      Chad     TD   \n2                2       0                      Chad     TD   \n3                2       0                      Chad     TD   \n4                2       0                      Chad     TD   \n\n  country_territory_code  pop_data_2019  \n0                    TCD       15946882  \n1                    TCD       15946882  \n2                    TCD       15946882  \n3                    TCD       15946882  \n4                    TCD       15946882  ",
      "text/html": "<div>\n<style scoped>\n    .dataframe tbody tr th:only-of-type {\n        vertical-align: middle;\n    }\n\n    .dataframe tbody tr th {\n        vertical-align: top;\n    }\n\n    .dataframe thead th {\n        text-align: right;\n    }\n</style>\n<table border=\"1\" class=\"dataframe\">\n  <thead>\n    <tr style=\"text-align: right;\">\n      <th></th>\n      <th>date</th>\n      <th>day</th>\n      <th>month</th>\n      <th>year</th>\n      <th>daily_confirmed_cases</th>\n      <th>daily_deaths</th>\n      <th>confirmed_cases</th>\n      <th>deaths</th>\n      <th>countries_and_territories</th>\n      <th>geo_id</th>\n      <th>country_territory_code</th>\n      <th>pop_data_2019</th>\n    </tr>\n  </thead>\n  <tbody>\n    <tr>\n      <th>0</th>\n      <td>2020-03-20</td>\n      <td>20</td>\n      <td>3</td>\n      <td>2020</td>\n      <td>1</td>\n      <td>0</td>\n      <td>1</td>\n      <td>0</td>\n      <td>Chad</td>\n      <td>TD</td>\n      <td>TCD</td>\n      <td>15946882</td>\n    </tr>\n    <tr>\n      <th>1</th>\n      <td>2020-03-21</td>\n      <td>21</td>\n      <td>3</td>\n      <td>2020</td>\n      <td>0</td>\n      <td>0</td>\n      <td>1</td>\n      <td>0</td>\n      <td>Chad</td>\n      <td>TD</td>\n      <td>TCD</td>\n      <td>15946882</td>\n    </tr>\n    <tr>\n      <th>2</th>\n      <td>2020-03-22</td>\n      <td>22</td>\n      <td>3</td>\n      <td>2020</td>\n      <td>1</td>\n      <td>0</td>\n      <td>2</td>\n      <td>0</td>\n      <td>Chad</td>\n      <td>TD</td>\n      <td>TCD</td>\n      <td>15946882</td>\n    </tr>\n    <tr>\n      <th>3</th>\n      <td>2020-03-23</td>\n      <td>23</td>\n      <td>3</td>\n      <td>2020</td>\n      <td>0</td>\n      <td>0</td>\n      <td>2</td>\n      <td>0</td>\n      <td>Chad</td>\n      <td>TD</td>\n      <td>TCD</td>\n      <td>15946882</td>\n    </tr>\n    <tr>\n      <th>4</th>\n      <td>2020-03-24</td>\n      <td>24</td>\n      <td>3</td>\n      <td>2020</td>\n      <td>0</td>\n      <td>0</td>\n      <td>2</td>\n      <td>0</td>\n      <td>Chad</td>\n      <td>TD</td>\n      <td>TCD</td>\n      <td>15946882</td>\n    </tr>\n  </tbody>\n</table>\n</div>"
     },
     "metadata": {},
     "execution_count": 9
    }
   ],
   "source": [
    "client.list_rows(table, max_results=5).to_dataframe()"
   ]
  },
  {
   "cell_type": "code",
   "execution_count": 10,
   "metadata": {},
   "outputs": [
    {
     "output_type": "execute_result",
     "data": {
      "text/plain": "   daily_confirmed_cases  confirmed_cases  daily_deaths  \\\n0                 157903         13541224          1172   \n1                  31219           617310           188   \n2                  31118          9462809           482   \n3                  26338          2295654           368   \n4                  21138          6335878           287   \n\n  countries_and_territories  \n0  United_States_of_America  \n1                    Turkey  \n2                     India  \n3                    Russia  \n4                    Brazil  ",
      "text/html": "<div>\n<style scoped>\n    .dataframe tbody tr th:only-of-type {\n        vertical-align: middle;\n    }\n\n    .dataframe tbody tr th {\n        vertical-align: top;\n    }\n\n    .dataframe thead th {\n        text-align: right;\n    }\n</style>\n<table border=\"1\" class=\"dataframe\">\n  <thead>\n    <tr style=\"text-align: right;\">\n      <th></th>\n      <th>daily_confirmed_cases</th>\n      <th>confirmed_cases</th>\n      <th>daily_deaths</th>\n      <th>countries_and_territories</th>\n    </tr>\n  </thead>\n  <tbody>\n    <tr>\n      <th>0</th>\n      <td>157903</td>\n      <td>13541224</td>\n      <td>1172</td>\n      <td>United_States_of_America</td>\n    </tr>\n    <tr>\n      <th>1</th>\n      <td>31219</td>\n      <td>617310</td>\n      <td>188</td>\n      <td>Turkey</td>\n    </tr>\n    <tr>\n      <th>2</th>\n      <td>31118</td>\n      <td>9462809</td>\n      <td>482</td>\n      <td>India</td>\n    </tr>\n    <tr>\n      <th>3</th>\n      <td>26338</td>\n      <td>2295654</td>\n      <td>368</td>\n      <td>Russia</td>\n    </tr>\n    <tr>\n      <th>4</th>\n      <td>21138</td>\n      <td>6335878</td>\n      <td>287</td>\n      <td>Brazil</td>\n    </tr>\n  </tbody>\n</table>\n</div>"
     },
     "metadata": {},
     "execution_count": 10
    }
   ],
   "source": [
    "#query to select covid cases by country on 12/1/2020\n",
    "query = \"\"\"\n",
    "        SELECT daily_confirmed_cases, confirmed_cases, daily_deaths, countries_and_territories\n",
    "        FROM `bigquery-public-data.covid19_ecdc.covid_19_geographic_distribution_worldwide`\n",
    "        WHERE date = '2020-12-01'\n",
    "        ORDER BY daily_confirmed_cases DESC\n",
    "        \"\"\"\n",
    "\n",
    "\n",
    "query_job = client.query(query)\n",
    "\n",
    "covid_cases_12_1_2020 = query_job.to_dataframe()\n",
    "\n",
    "covid_cases_12_1_2020.head()"
   ]
  }
 ]
}